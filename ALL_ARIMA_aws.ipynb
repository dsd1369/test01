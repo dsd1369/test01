{
 "cells": [
  {
   "cell_type": "code",
   "execution_count": 27,
   "id": "7be22db9",
   "metadata": {},
   "outputs": [],
   "source": [
    "import pymssql\n",
    "import numpy as np\n",
    "import pandas as pd\n",
    "import matplotlib.pyplot as plt\n",
    "from pylab import rcParams\n",
    "from statsmodels.tsa.stattools import adfuller, kpss\n",
    "import itertools\n",
    "import statsmodels.tsa.api as tsa\n",
    "\n",
    "def DB_connection(tank_seq, low_error):\n",
    "    conn = pymssql.connect(server='sql16ssd-014.localnet.kr', user='i2on11_admin', password='root0826', database='i2on11_admin')\n",
    "    cursor = conn.cursor()\n",
    "\n",
    "    conn_sql = 'SELECT signal_time, tank_remain_volume FROM gas_tank_volume_history where tank_seq = ' + tank_seq + 'ORDER BY signal_time DESC'\n",
    "\n",
    "    # 쿼리 실행\n",
    "    cursor.execute(conn_sql)\n",
    "\n",
    "    # 결과 가져오기\n",
    "    rows = cursor.fetchall()\n",
    "\n",
    "    # 연결 닫기\n",
    "    conn.close()\n",
    "    d_h = pd.DataFrame(rows, columns=['datetime', 'history'])\n",
    "    d_h['datetime'] = pd.to_datetime(d_h['datetime'])\n",
    "    d_h.set_index('datetime', inplace=True)\n",
    "    d_h.sort_index(ascending=True, inplace=True)\n",
    "    d_h.drop(d_h[d_h['history'] <= 3].index, inplace=True)\n",
    "\n",
    "    diff_d_h = d_h.copy()\n",
    "    diff_d_h['history'] = diff_d_h['history'].diff()\n",
    "    diff_d_h = diff_d_h.dropna()\n",
    "    recent_datetime = diff_d_h['history'].index[-1] if (diff_d_h['history'] > 15).any() else diff_d_h.index.min()\n",
    "    diff_d_h[diff_d_h >15] = 0\n",
    "#     d_h = d_h[d_h.index>=recent_datetime]\n",
    "#     diff_d_h = d_h.copy()\n",
    "#     diff_d_h['history'] = diff_d_h['history'].diff()\n",
    "#     diff_d_h = diff_d_h.dropna()\n",
    "    \n",
    "    diff_2d_h = diff_d_h.copy()\n",
    "    diff_2d_h['history'] = diff_2d_h['history'].diff()\n",
    "    diff_2d_h = diff_2d_h.dropna()\n",
    "\n",
    "    diff_3d_h = diff_2d_h.copy()\n",
    "    diff_3d_h['history'] = diff_3d_h['history'].diff()\n",
    "    diff_3d_h = diff_3d_h.dropna()\n",
    "    return d_h, diff_d_h, diff_2d_h, diff_3d_h"
   ]
  },
  {
   "cell_type": "code",
   "execution_count": 28,
   "id": "b993c21a",
   "metadata": {},
   "outputs": [],
   "source": [
    "def adf_kpss_testing(history_diff):\n",
    "    found_index = None\n",
    "    \n",
    "    for history_index, history in enumerate(history_diff):    \n",
    "        try:\n",
    "            # Perform Augmented Dickey-Fuller (ADF) test\n",
    "            adf_result = adfuller(history)\n",
    "            adf_statistic = adf_result[0]\n",
    "            adf_pvalue = adf_result[1]\n",
    "            adf_critical_values = adf_result[4]\n",
    "            adf_test = (adf_pvalue < 0.05)\n",
    "            adf_st_test = (adf_statistic >= -10)\n",
    "            print('adf p-value : ', adf_pvalue, adf_test)\n",
    "            print('adf statistic : ', adf_statistic, adf_st_test)\n",
    "            # Perform Kwiatkowski-Phillips-Schmidt-Shin (KPSS) test\n",
    "        except:\n",
    "            adf_test = False\n",
    "        try:\n",
    "            kpss_result = kpss(history)\n",
    "            kpss_statistic = kpss_result[0]\n",
    "            kpss_pvalue = kpss_result[1]\n",
    "            kpss_critical_values = kpss_result[3]\n",
    "            kpss_test = (kpss_pvalue < 0.05)\n",
    "        except:\n",
    "            kpss_test= False\n",
    "            print(\"kpss_test Warning\")\n",
    "            continue\n",
    "        print(history_index,' kpss p-value : ', kpss_pvalue, kpss_test)\n",
    "        acf = np.correlate(history, history, mode='full')[-len(history):]\n",
    "        acf_test = (acf[1]>=0 and acf[2]>=0 and acf[1]>=acf[2]) or (acf[1]<0 and acf[2]>=0)\n",
    "        print(acf_test)\n",
    "        \n",
    "        if history_index == 0:\n",
    "            continue\n",
    "        if adf_test and acf_test and not kpss_test:\n",
    "            found_index = history_index - 1\n",
    "            break\n",
    "        \n",
    "    if found_index is not None:\n",
    "        print(\"Index:\", found_index)\n",
    "    else:\n",
    "        found_index = 0\n",
    "        print(\"Index not found.\")\n",
    "    return found_index"
   ]
  },
  {
   "cell_type": "code",
   "execution_count": 29,
   "id": "63602546",
   "metadata": {},
   "outputs": [],
   "source": [
    "def none_differencing_func(pred_h, pred_df, datetime, prevalue):\n",
    "    for i in range(0, len(pred_df['mean'])):\n",
    "        datetime = pred_df.index[i]\n",
    "        prevalue = pred_df['mean'][i]\n",
    "        pred_h[str(datetime)] = str(prevalue)\n",
    "    return pred_h"
   ]
  },
  {
   "cell_type": "code",
   "execution_count": 30,
   "id": "c73b5346",
   "metadata": {},
   "outputs": [],
   "source": [
    "def first_differencing_func(pred_h, pred_df, datetime, prevalue):\n",
    "    for i in range(0, len(pred_df['mean'])):\n",
    "        datetime = pred_df.index[i]  # access datetime using index\n",
    "        prevalue = round(prevalue + pred_df['mean'][i],3)\n",
    "        pred_h[str(datetime)] = str(prevalue)\n",
    "    return pred_h"
   ]
  },
  {
   "cell_type": "code",
   "execution_count": 31,
   "id": "31358e07",
   "metadata": {},
   "outputs": [],
   "source": [
    "def second_differencing_func(pred_h, pred_df, prevalue, datetime, diffmaxindex, differing):\n",
    "    for i in range(0, len(pred_df['mean'])):\n",
    "        differing = differing + pred_df['mean'][i]\n",
    "        datetime = pred_df.index[i]  # access datetime using index\n",
    "        prevalue = round(prevalue + differing,3)\n",
    "        pred_h[str(datetime)] = str(prevalue)\n",
    "    return pred_h"
   ]
  },
  {
   "cell_type": "code",
   "execution_count": 32,
   "id": "5f8b1069",
   "metadata": {},
   "outputs": [],
   "source": [
    "def ARIMA_prediction(found_index, history_diff):\n",
    "    rcParams['figure.figsize'] = (15, 20)\n",
    "    \n",
    "    d_h = history_diff[0]\n",
    "    diff_d_h = history_diff[1]\n",
    "#     plt.figure(figsize=(10, 5))\n",
    "#     plt.plot(d_h)\n",
    "    \n",
    "    y=history_diff[found_index].resample('1D').mean()\n",
    "    y.isnull().sum()\n",
    "    y1 = y.fillna(method='ffill')\n",
    "    p=d=q=range(0,2)\n",
    "    pdq = list(itertools.product(p,d,q))\n",
    "    seasonal_pdq = [(x[0],x[1],x[2]) for x in  list(itertools.product(p,d,q))]\n",
    "\n",
    "    for param in pdq:\n",
    "        try:\n",
    "            mod = tsa.statespace.SARIMAX(y1, order=param, enforce_stationarity=False, enforce_invertibility=False)\n",
    "            results = mod.fit()\n",
    "            param_list.append(param)\n",
    "            results_AIC_list.append(results.aic)\n",
    "        except:\n",
    "            continue\n",
    "    # print(param)\n",
    "    mod = tsa.statespace.SARIMAX(y1, order=param,\n",
    "                                enforce_stationarity=True, enforce_invertibility=False)\n",
    "    results=mod.fit()\n",
    "    max_date = history_diff[found_index].index.max()\n",
    "    new_date = max_date + pd.DateOffset(days=14)\n",
    "#     print(new_date)\n",
    "    pred = results.get_prediction(start=pd.to_datetime(max_date),\n",
    "                                 end=pd.to_datetime(new_date), dynamic=True)\n",
    "    pred_df = pred.summary_frame()\n",
    "    pred_df.rename_axis('datetime', inplace=True)\n",
    "    # Extract the hours, minutes, and seconds from max_date\n",
    "    max_hours = max_date.hour\n",
    "    max_minutes = max_date.minute\n",
    "    max_seconds = max_date.second\n",
    "\n",
    "    # Set the hours, minutes, and seconds of the datetime column in pred_df\n",
    "    pred_df.index = pred_df.index.map(lambda timestamp: timestamp.replace(\n",
    "        hour=max_hours, minute=max_minutes, second=max_seconds\n",
    "    ))\n",
    "    prevalue = d_h.loc[d_h.index.max()]\n",
    "    datetime_max = d_h.index.max()\n",
    "    diffmaxindex = diff_d_h.index.max()\n",
    "    differing = diff_d_h.loc[diffmaxindex]\n",
    "    pred_h = {str(datetime_max) : str(prevalue)}\n",
    "#     print(found_index)\n",
    "    if found_index == 1:\n",
    "        pred_h = first_differencing_func(pred_h, pred_df, datetime_max, prevalue)\n",
    "#     elif \n",
    "#         pred_h = none_differencing_func(pred_h, pred_df, datetime_max, prevalue)\n",
    "    elif found_index == 2:\n",
    "        pred_h = second_differencing_func(pred_h, pred_df, prevalue, datetime_max, diffmaxindex, differing)\n",
    "    else :\n",
    "        pred_h = none_differencing_func(pred_h, pred_df, datetime_max, prevalue)\n",
    "    return pred_h"
   ]
  },
  {
   "cell_type": "code",
   "execution_count": 33,
   "id": "bb4a70b7",
   "metadata": {},
   "outputs": [
    {
     "name": "stdout",
     "output_type": "stream",
     "text": [
      "adf p-value :  9.373961375024746e-05 True\n",
      "adf statistic :  -4.674999480932716 True\n",
      "0  kpss p-value :  0.1 False\n",
      "True\n",
      "adf p-value :  4.624933337203695e-06 True\n",
      "adf statistic :  -5.335313162113159 True\n",
      "1  kpss p-value :  0.01 True\n",
      "False\n",
      "adf p-value :  5.3735929857669583e-20 True\n",
      "adf statistic :  -11.040755205842085 False\n",
      "2  kpss p-value :  0.1 False\n",
      "True\n",
      "Index: 1\n"
     ]
    },
    {
     "name": "stderr",
     "output_type": "stream",
     "text": [
      "C:\\Users\\hdenergy\\anaconda3\\lib\\site-packages\\statsmodels\\tsa\\stattools.py:2022: InterpolationWarning: The test statistic is outside of the range of p-values available in the\n",
      "look-up table. The actual p-value is greater than the p-value returned.\n",
      "\n",
      "  warnings.warn(\n",
      "C:\\Users\\hdenergy\\anaconda3\\lib\\site-packages\\statsmodels\\tsa\\stattools.py:2018: InterpolationWarning: The test statistic is outside of the range of p-values available in the\n",
      "look-up table. The actual p-value is smaller than the p-value returned.\n",
      "\n",
      "  warnings.warn(\n",
      "C:\\Users\\hdenergy\\anaconda3\\lib\\site-packages\\statsmodels\\tsa\\stattools.py:2022: InterpolationWarning: The test statistic is outside of the range of p-values available in the\n",
      "look-up table. The actual p-value is greater than the p-value returned.\n",
      "\n",
      "  warnings.warn(\n"
     ]
    },
    {
     "name": "stdout",
     "output_type": "stream",
     "text": [
      "{'2023-05-25 16:37:38': '61', '2023-05-26 16:37:38': '60.105', '2023-05-27 16:37:38': '59.447', '2023-05-28 16:37:38': '58.727', '2023-05-29 16:37:38': '58.023', '2023-05-30 16:37:38': '57.315', '2023-05-31 16:37:38': '56.608', '2023-06-01 16:37:38': '55.901', '2023-06-02 16:37:38': '55.194', '2023-06-03 16:37:38': '54.487', '2023-06-04 16:37:38': '53.78', '2023-06-05 16:37:38': '53.073', '2023-06-06 16:37:38': '52.366', '2023-06-07 16:37:38': '51.659', '2023-06-08 16:37:38': '50.952', '2023-06-09 16:37:38': '50.245'}\n"
     ]
    }
   ],
   "source": [
    "def prediction_by_tank_seq(tank_seq):\n",
    "    d_h, diff_d_h, diff_2d_h, diff_3d_h = DB_connection(tank_seq, True)\n",
    "    d_h = DB_connection(tank_seq, False)[0]\n",
    "    history_diff = [d_h['history'], diff_d_h['history'], diff_2d_h['history'], diff_3d_h['history']]\n",
    "    found_index = adf_kpss_testing(history_diff)\n",
    "    pred_h = ARIMA_prediction(found_index, history_diff)\n",
    "    return pred_h\n",
    "\n",
    "print(prediction_by_tank_seq('302'))"
   ]
  },
  {
   "cell_type": "code",
   "execution_count": null,
   "id": "7010e3dd",
   "metadata": {
    "scrolled": true
   },
   "outputs": [
    {
     "name": "stdout",
     "output_type": "stream",
     "text": [
      " * Serving Flask app \"__main__\" (lazy loading)\n",
      " * Environment: production\n",
      "\u001b[31m   WARNING: This is a development server. Do not use it in a production deployment.\u001b[0m\n",
      "\u001b[2m   Use a production WSGI server instead.\u001b[0m\n",
      " * Debug mode: off\n"
     ]
    },
    {
     "name": "stderr",
     "output_type": "stream",
     "text": [
      " * Running on all addresses.\n",
      "   WARNING: This is a development server. Do not use it in a production deployment.\n",
      " * Running on http://192.168.0.19:5000/ (Press CTRL+C to quit)\n"
     ]
    }
   ],
   "source": [
    "from flask import Flask\n",
    "from flask import request\n",
    "from flask import jsonify\n",
    "from datetime import datetime\n",
    "app = Flask(__name__)\n",
    "\n",
    "@app.route('/test', methods=['POST'])\n",
    "def seaqq():\n",
    "    data = request.form\n",
    "    tank_seq = data['tank_seq']\n",
    "\n",
    "    runningvalue = prediction_by_tank_seq(tank_seq)\n",
    "    stringreturnvalue = str(runningvalue)\n",
    "    print(stringreturnvalue)\n",
    "\n",
    "    return jsonify({'result': runningvalue})\n",
    "\n",
    "if __name__ == \"__main__\":\n",
    "    app.run(host=\"0.0.0.0\", port=\"5000\")"
   ]
  },
  {
   "cell_type": "code",
   "execution_count": null,
   "id": "220853ff",
   "metadata": {},
   "outputs": [],
   "source": []
  }
 ],
 "metadata": {
  "kernelspec": {
   "display_name": "Python 3 (ipykernel)",
   "language": "python",
   "name": "python3"
  },
  "language_info": {
   "codemirror_mode": {
    "name": "ipython",
    "version": 3
   },
   "file_extension": ".py",
   "mimetype": "text/x-python",
   "name": "python",
   "nbconvert_exporter": "python",
   "pygments_lexer": "ipython3",
   "version": "3.9.13"
  }
 },
 "nbformat": 4,
 "nbformat_minor": 5
}
